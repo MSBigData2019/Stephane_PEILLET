{
 "cells": [
  {
   "cell_type": "markdown",
   "metadata": {},
   "source": [
    "# SD202 TP2 - Normalization and SQL\n",
    "\n",
    "The objectives of this TP are the following:\n",
    "\n",
    "1. Apply normalization 1NF -> 2NF -> 3NF -> BCNF\n",
    "2. Perform SQL queries on the normalized database\n",
    "\n",
    "In this lab, we are going to use a database containing wine information related to 'production' and 'sales'. \n",
    "\n",
    "Production <---> Wine <---> Sales\n",
    "\n",
    "First, we are going to normalize it, and after that, we are going to write some SQL queries.\n",
    "\n",
    "The __wine.db__ database contains the following tables:"
   ]
  },
  {
   "cell_type": "raw",
   "metadata": {},
   "source": [
    "+-----------------------------------------+\n",
    "|                 Master1                 |\n",
    "+-----------------------------------------+\n",
    "| NV:      Wine number                    |\n",
    "| CRU:     Vineyard or group of vineyards |\n",
    "| DEGRE:   Alcohol content                |\n",
    "| MILL:    Vintage year                   |\n",
    "| QTE:     Number of bottles harvested    |\n",
    "| NP:      Producer number                |\n",
    "| NOM:     Producer's last name           |\n",
    "| PRENOM:  Producer's first name          |\n",
    "| REGION:  Wine growing region            |\n",
    "+-----------------------------------------+\n",
    "\n",
    "+-------------------------------------------------------------------+\n",
    "|                              Master2                              |\n",
    "+-------------------------------------------------------------------+\n",
    "| NV:      Wine number                                              |\n",
    "| CRU:     Vineyard or group of vineyards                           |\n",
    "| DEGRE:   Alcohol content                                          |\n",
    "| MILL:    Vintage year                                             |\n",
    "| DATES:   Buying date                                              |\n",
    "| LIEU:    Place where the wine was sold                            |\n",
    "| QTE:     Number of bottles bought                                 |\n",
    "| NB:      Client (buveur) number                                   |\n",
    "| NON:     Client's last name                                       |\n",
    "| PRENOM:  Client's first name                                      |\n",
    "| TYPE:    Type of client by volume of purchases                    |\n",
    "| REGION:  Administrative Region (different to wine growing region) |\n",
    "+-------------------------------------------------------------------+"
   ]
  },
  {
   "cell_type": "markdown",
   "metadata": {},
   "source": [
    "We need to prepare the SQL environment:"
   ]
  },
  {
   "cell_type": "code",
   "execution_count": 1,
   "metadata": {},
   "outputs": [],
   "source": [
    "import sqlite3"
   ]
  },
  {
   "cell_type": "code",
   "execution_count": 2,
   "metadata": {},
   "outputs": [],
   "source": [
    "def printSchema(connection):\n",
    "    ### Source: http://stackoverflow.com/a/35092773/4765776\n",
    "    for (tableName,) in connection.execute(\n",
    "        \"\"\"\n",
    "        select NAME from SQLITE_MASTER where TYPE='table' order by NAME;\n",
    "        \"\"\"\n",
    "    ):\n",
    "        print(\"{}:\".format(tableName))\n",
    "        for (\n",
    "            columnID, columnName, columnType,\n",
    "            columnNotNull, columnDefault, columnPK,\n",
    "        ) in connection.execute(\"pragma table_info('{}');\".format(tableName)):\n",
    "            print(\"  {id}: {name}({type}){null}{default}{pk}\".format(\n",
    "                id=columnID,\n",
    "                name=columnName,\n",
    "                type=columnType,\n",
    "                null=\" not null\" if columnNotNull else \"\",\n",
    "                default=\" [{}]\".format(columnDefault) if columnDefault else \"\",\n",
    "                pk=\" *{}\".format(columnPK) if columnPK else \"\",\n",
    "            ))"
   ]
  },
  {
   "cell_type": "code",
   "execution_count": 3,
   "metadata": {},
   "outputs": [
    {
     "name": "stdout",
     "output_type": "stream",
     "text": [
      "Database schema:\n"
     ]
    }
   ],
   "source": [
    "conn = sqlite3.connect('wine.db')\n",
    "c = conn.cursor()\n",
    "print(\"Database schema:\")\n",
    "#printSchema(conn)          # An usefull way to viualize the content of the database"
   ]
  },
  {
   "cell_type": "markdown",
   "metadata": {},
   "source": [
    "We recommend inline __%sql__ as an alternative to sqlite3 package"
   ]
  },
  {
   "cell_type": "code",
   "execution_count": 4,
   "metadata": {},
   "outputs": [
    {
     "data": {
      "text/plain": [
       "'Connected: @wine.db'"
      ]
     },
     "execution_count": 4,
     "metadata": {},
     "output_type": "execute_result"
    }
   ],
   "source": [
    "%load_ext sql\n",
    "%sql sqlite:///wine.db"
   ]
  },
  {
   "cell_type": "markdown",
   "metadata": {},
   "source": [
    "Now, we can see the content of the tables using SQL queries:"
   ]
  },
  {
   "cell_type": "code",
   "execution_count": 5,
   "metadata": {},
   "outputs": [
    {
     "name": "stdout",
     "output_type": "stream",
     "text": [
      " * sqlite:///wine.db\n",
      "Done.\n"
     ]
    },
    {
     "data": {
      "text/html": [
       "<table>\n",
       "    <tr>\n",
       "        <th>NOM</th>\n",
       "        <th>PRENOM</th>\n",
       "    </tr>\n",
       "    <tr>\n",
       "        <td>Six</td>\n",
       "        <td>Paul</td>\n",
       "    </tr>\n",
       "    <tr>\n",
       "        <td>Marmagne</td>\n",
       "        <td>Bernard</td>\n",
       "    </tr>\n",
       "    <tr>\n",
       "        <td>Lioger d&#x27;Harduy</td>\n",
       "        <td>Gabriel</td>\n",
       "    </tr>\n",
       "</table>"
      ],
      "text/plain": [
       "[('Six', 'Paul'), ('Marmagne', 'Bernard'), (\"Lioger d'Harduy\", 'Gabriel')]"
      ]
     },
     "execution_count": 5,
     "metadata": {},
     "output_type": "execute_result"
    }
   ],
   "source": [
    "%sql SELECT DISTINCT NOM, PRENOM FROM MASTER1 LIMIT 3;"
   ]
  },
  {
   "cell_type": "code",
   "execution_count": 6,
   "metadata": {},
   "outputs": [
    {
     "name": "stdout",
     "output_type": "stream",
     "text": [
      " * sqlite:///wine.db\n",
      "Done.\n"
     ]
    },
    {
     "data": {
      "text/html": [
       "<table>\n",
       "    <tr>\n",
       "        <th>NV</th>\n",
       "        <th>CRU</th>\n",
       "        <th>DEGRE</th>\n",
       "        <th>MILL</th>\n",
       "        <th>DATES</th>\n",
       "        <th>LIEU</th>\n",
       "        <th>QTE</th>\n",
       "    </tr>\n",
       "    <tr>\n",
       "        <td>None</td>\n",
       "        <td>None</td>\n",
       "        <td>None</td>\n",
       "        <td>None</td>\n",
       "        <td>None</td>\n",
       "        <td>None</td>\n",
       "        <td>None</td>\n",
       "    </tr>\n",
       "    <tr>\n",
       "        <td>1</td>\n",
       "        <td>Mercurey</td>\n",
       "        <td>11.5</td>\n",
       "        <td>1980</td>\n",
       "        <td>1977-11-02</td>\n",
       "        <td>BORDEAUX</td>\n",
       "        <td>33</td>\n",
       "    </tr>\n",
       "    <tr>\n",
       "        <td>1</td>\n",
       "        <td>Mercurey</td>\n",
       "        <td>11.5</td>\n",
       "        <td>1980</td>\n",
       "        <td>2015-10-16</td>\n",
       "        <td>PARIS</td>\n",
       "        <td>1</td>\n",
       "    </tr>\n",
       "</table>"
      ],
      "text/plain": [
       "[(None, None, None, None, None, None, None),\n",
       " (1, 'Mercurey', 11.5, 1980, '1977-11-02', 'BORDEAUX', 33),\n",
       " (1, 'Mercurey', 11.5, 1980, '2015-10-16', 'PARIS', 1)]"
      ]
     },
     "execution_count": 6,
     "metadata": {},
     "output_type": "execute_result"
    }
   ],
   "source": [
    "%sql SELECT DISTINCT NV,CRU,DEGRE,MILL,DATES,LIEU,QTE FROM MASTER2 LIMIT 3;"
   ]
  },
  {
   "cell_type": "markdown",
   "metadata": {},
   "source": [
    "# PART I: Database normalization"
   ]
  },
  {
   "cell_type": "markdown",
   "metadata": {},
   "source": [
    "The first task on this TP is the normalization of the wine data. In its current state both tables Master1 and Master2 are in the First Normal Form (1NF) and suffer from data redundancy, update, deletion and insertion anomalies. "
   ]
  },
  {
   "cell_type": "markdown",
   "metadata": {},
   "source": [
    "__1.1__ Convert table Master1 to the Second Normal Form (2NF), Third Normal Form (3NF) and Boyce-Codd Normal Form(BCNF).\n",
    "* Explain your answer\n",
    "* List functional dependencies\n",
    "* Describe the schema of new tables and how they relate"
   ]
  },
  {
   "cell_type": "markdown",
   "metadata": {},
   "source": [
    "ANSWER:\n",
    "- The Master1 Table contains information about producers, wine and how many bottles where harvest by each producer.\n",
    "To fit the 2NF, 3NF and BCNF. We should make 3 tables for each.\n",
    "- The table Producers will contain (NP, NOM, PRENOM, REGION)\n",
    "- The table Wine will contain (NV, CRU, DEGRE, MILL)\n",
    "- The table Harvest will contain (ID_HARV, NP, NV, QTE)\n",
    "As we can see, NP and NV are the primary keys of Producers and Wine, and are related to the table Harvest. Where they are foreign keys\n",
    "\n",
    "Concerning functional dependencies:\n",
    "In the table Producers we have: NP->{PRENOM, NOM, REGION}<br/>\n",
    "In the table Wine we have: NV -> {CRU, MILL, DEGRE}<br/>\n",
    "In the table Harvest we have: {NV, NP} -> QTE<br/>\n",
    "A good practice could be to set a primary key for the table harvest."
   ]
  },
  {
   "cell_type": "markdown",
   "metadata": {},
   "source": [
    "__1.2__ Convert table Master2 to the Second Normal Form (2NF), Third Normal Form (3NF) and Boyce-Codd Normal Form(BCNF).\n",
    "* Explain your answer\n",
    "* List functional dependencies\n",
    "* Describe the schema of new tables and how they relate"
   ]
  },
  {
   "cell_type": "markdown",
   "metadata": {},
   "source": [
    "ANSWER:\n",
    "- The Master2 Table contains information about customer, wine and how many bottles where buyed by each customer.\n",
    "To fit the 2NF, 3NF and BCNF. We should make 3 tables for each.\n",
    "- The table Customer will contain (NB, NOM, PRENOM, TYPE, REGION)\n",
    "- The table Wine will contain (NV, CRU, DEGRE, MILL) (same as the Master1\n",
    "- The table Buy will contain (ID_BUY, NB, NV, QTE, LIEU, DATES)\n",
    "As we can see, NB and NV are the primary keys of Customer and Wine, and are related to the table Buy. Where they are foreign keys\n",
    "\n",
    "Concerning functional dependencies:\n",
    "In the table Customer we have: NB->{PRENOM, NOM, REGION, TYPE}<br/>\n",
    "In the table Wine we have: NV -> {CRU, MILL, DEGRE}<br/>\n",
    "In the table Buy we have: {NB, NV} -> {QTE, LIEU, DATES}<br/>\n",
    "A good practice could be to set a primary key for the table Buy."
   ]
  },
  {
   "cell_type": "markdown",
   "metadata": {},
   "source": [
    "__1.3__ Create the new tables from Master1:"
   ]
  },
  {
   "cell_type": "code",
   "execution_count": 7,
   "metadata": {},
   "outputs": [
    {
     "name": "stdout",
     "output_type": "stream",
     "text": [
      " * sqlite:///wine.db\n",
      "Done.\n",
      "Done.\n",
      "124 rows affected.\n",
      "Done.\n"
     ]
    },
    {
     "data": {
      "text/html": [
       "<table>\n",
       "    <tr>\n",
       "        <th>NP</th>\n",
       "        <th>NOM</th>\n",
       "        <th>PRENOM</th>\n",
       "        <th>REGION</th>\n",
       "    </tr>\n",
       "    <tr>\n",
       "        <td>1</td>\n",
       "        <td>Bohn</td>\n",
       "        <td>Rene</td>\n",
       "        <td>Alsace</td>\n",
       "    </tr>\n",
       "    <tr>\n",
       "        <td>2</td>\n",
       "        <td>Boxler</td>\n",
       "        <td>Albert</td>\n",
       "        <td>Alsace</td>\n",
       "    </tr>\n",
       "    <tr>\n",
       "        <td>3</td>\n",
       "        <td>Six</td>\n",
       "        <td>Paul</td>\n",
       "        <td>Alsace</td>\n",
       "    </tr>\n",
       "</table>"
      ],
      "text/plain": [
       "[(1, 'Bohn', 'Rene', 'Alsace'),\n",
       " (2, 'Boxler', 'Albert', 'Alsace'),\n",
       " (3, 'Six', 'Paul', 'Alsace')]"
      ]
     },
     "execution_count": 7,
     "metadata": {},
     "output_type": "execute_result"
    }
   ],
   "source": [
    "%%sql \n",
    "\n",
    "DROP TABLE IF EXISTS Producer;\n",
    "CREATE TABLE Producer(NP INTEGER PRIMARY KEY, NOM TEXT, PRENOM TEXT,REGION TEXT);\n",
    "INSERT INTO Producer SELECT DISTINCT NP, NOM, PRENOM, REGION FROM MASTER1 WHERE NP NOT NULL;\n",
    "SELECT * FROM Producer LIMIT 3;"
   ]
  },
  {
   "cell_type": "code",
   "execution_count": 8,
   "metadata": {},
   "outputs": [
    {
     "name": "stdout",
     "output_type": "stream",
     "text": [
      " * sqlite:///wine.db\n",
      "Done.\n",
      "Done.\n",
      "102 rows affected.\n",
      "Done.\n"
     ]
    },
    {
     "data": {
      "text/html": [
       "<table>\n",
       "    <tr>\n",
       "        <th>NV</th>\n",
       "        <th>CRU</th>\n",
       "        <th>DEGRE</th>\n",
       "        <th>MILL</th>\n",
       "    </tr>\n",
       "    <tr>\n",
       "        <td>1</td>\n",
       "        <td>Mercurey</td>\n",
       "        <td>11.5</td>\n",
       "        <td>1980</td>\n",
       "    </tr>\n",
       "    <tr>\n",
       "        <td>2</td>\n",
       "        <td>Julienas</td>\n",
       "        <td>11.3</td>\n",
       "        <td>1974</td>\n",
       "    </tr>\n",
       "    <tr>\n",
       "        <td>3</td>\n",
       "        <td>Savigny les Beaunes</td>\n",
       "        <td>12.1</td>\n",
       "        <td>1978</td>\n",
       "    </tr>\n",
       "</table>"
      ],
      "text/plain": [
       "[(1, 'Mercurey', 11.5, 1980),\n",
       " (2, 'Julienas', 11.3, 1974),\n",
       " (3, 'Savigny les Beaunes', 12.1, 1978)]"
      ]
     },
     "execution_count": 8,
     "metadata": {},
     "output_type": "execute_result"
    }
   ],
   "source": [
    "%%sql\n",
    "\n",
    "DROP TABLE IF EXISTS Wine;\n",
    "CREATE TABLE Wine(NV INTEGER PRIMARY KEY, CRU TEXT, DEGRE FLOAT, MILL INTEGER);\n",
    "INSERT INTO Wine SELECT DISTINCT NV, CRU, DEGRE, MILL FROM Master1 WHERE NV NOT NULL;\n",
    "SELECT * FROM Wine LIMIT 3;"
   ]
  },
  {
   "cell_type": "code",
   "execution_count": 9,
   "metadata": {},
   "outputs": [
    {
     "name": "stdout",
     "output_type": "stream",
     "text": [
      " * sqlite:///wine.db\n",
      "Done.\n",
      "Done.\n",
      "140 rows affected.\n",
      "Done.\n"
     ]
    },
    {
     "data": {
      "text/html": [
       "<table>\n",
       "    <tr>\n",
       "        <th>NP</th>\n",
       "        <th>NV</th>\n",
       "        <th>QTE</th>\n",
       "    </tr>\n",
       "    <tr>\n",
       "        <td>1</td>\n",
       "        <td>1</td>\n",
       "        <td>300</td>\n",
       "    </tr>\n",
       "    <tr>\n",
       "        <td>73</td>\n",
       "        <td>1</td>\n",
       "        <td>1</td>\n",
       "    </tr>\n",
       "    <tr>\n",
       "        <td>5</td>\n",
       "        <td>2</td>\n",
       "        <td>100</td>\n",
       "    </tr>\n",
       "</table>"
      ],
      "text/plain": [
       "[(1, 1, 300), (73, 1, 1), (5, 2, 100)]"
      ]
     },
     "execution_count": 9,
     "metadata": {},
     "output_type": "execute_result"
    }
   ],
   "source": [
    "%%sql\n",
    "\n",
    "DROP TABLE IF EXISTS Harvest;\n",
    "CREATE TABLE Harvest(NP INTEGER, NV INTEGER, QTE INTEGER, \n",
    "                     FOREIGN KEY(NP) REFERENCES Producer(NP), FOREIGN KEY(NV) REFERENCES Wine(NV));\n",
    "INSERT INTO Harvest SELECT DISTINCT NP, NV, QTE FROM Master1 WHERE NV AND NP NOT NULL;\n",
    "SELECT * FROM Harvest LIMIT 3;"
   ]
  },
  {
   "cell_type": "markdown",
   "metadata": {},
   "source": [
    "__1.4__ Create the new tables from Master2:"
   ]
  },
  {
   "cell_type": "code",
   "execution_count": 10,
   "metadata": {},
   "outputs": [
    {
     "name": "stdout",
     "output_type": "stream",
     "text": [
      " * sqlite:///wine.db\n",
      "Done.\n",
      "Done.\n",
      "18 rows affected.\n",
      "Done.\n"
     ]
    },
    {
     "data": {
      "text/html": [
       "<table>\n",
       "    <tr>\n",
       "        <th>LIEU</th>\n",
       "        <th>REGION</th>\n",
       "    </tr>\n",
       "    <tr>\n",
       "        <td>BORDEAUX</td>\n",
       "        <td> NOUVELLE-AQUITAINE</td>\n",
       "    </tr>\n",
       "    <tr>\n",
       "        <td>PARIS</td>\n",
       "        <td> ÎLE-DE-FRANCE</td>\n",
       "    </tr>\n",
       "    <tr>\n",
       "        <td>RENNES</td>\n",
       "        <td> BRETAGNE</td>\n",
       "    </tr>\n",
       "</table>"
      ],
      "text/plain": [
       "[('BORDEAUX', ' NOUVELLE-AQUITAINE'),\n",
       " ('PARIS', ' ÎLE-DE-FRANCE'),\n",
       " ('RENNES', ' BRETAGNE')]"
      ]
     },
     "execution_count": 10,
     "metadata": {},
     "output_type": "execute_result"
    }
   ],
   "source": [
    "%%sql\n",
    "\n",
    "DROP TABLE IF EXISTS Location;\n",
    "CREATE TABLE Location(\n",
    "    LIEU TEXT PRIMARY KEY,\n",
    "    REGION TEXT\n",
    ");\n",
    "INSERT INTO Location SELECT DISTINCT LIEU, REGION FROM Master2 WHERE LIEU NOT NULL;\n",
    "SELECT * FROM Location LIMIT 3;"
   ]
  },
  {
   "cell_type": "code",
   "execution_count": 11,
   "metadata": {},
   "outputs": [
    {
     "name": "stdout",
     "output_type": "stream",
     "text": [
      " * sqlite:///wine.db\n",
      "Done.\n",
      "Done.\n",
      "109 rows affected.\n",
      "Done.\n"
     ]
    },
    {
     "data": {
      "text/html": [
       "<table>\n",
       "    <tr>\n",
       "        <th>ID_CUSTOMER</th>\n",
       "        <th>NB</th>\n",
       "        <th>NOM</th>\n",
       "        <th>PRENOM</th>\n",
       "        <th>TYPE</th>\n",
       "        <th>REGION</th>\n",
       "    </tr>\n",
       "    <tr>\n",
       "        <td>1</td>\n",
       "        <td>11</td>\n",
       "        <td>Breton</td>\n",
       "        <td>Andre</td>\n",
       "        <td>petit</td>\n",
       "        <td>None</td>\n",
       "    </tr>\n",
       "    <tr>\n",
       "        <td>2</td>\n",
       "        <td>13</td>\n",
       "        <td>Barthes</td>\n",
       "        <td>Roland</td>\n",
       "        <td>moyen</td>\n",
       "        <td>None</td>\n",
       "    </tr>\n",
       "    <tr>\n",
       "        <td>3</td>\n",
       "        <td>16</td>\n",
       "        <td>Balzac</td>\n",
       "        <td>Honore de</td>\n",
       "        <td>moyen</td>\n",
       "        <td>None</td>\n",
       "    </tr>\n",
       "</table>"
      ],
      "text/plain": [
       "[(1, 11, 'Breton', 'Andre', 'petit', None),\n",
       " (2, 13, 'Barthes', 'Roland', 'moyen', None),\n",
       " (3, 16, 'Balzac', 'Honore de', 'moyen', None)]"
      ]
     },
     "execution_count": 11,
     "metadata": {},
     "output_type": "execute_result"
    }
   ],
   "source": [
    "%%sql\n",
    "DROP TABLE IF EXISTS Customer;\n",
    "CREATE TABLE Customer(\n",
    "    ID_CUSTOMER INTEGER PRIMARY KEY AUTOINCREMENT,\n",
    "    NB INTEGER,\n",
    "    NOM TEXT,\n",
    "    PRENOM TEXT,\n",
    "    TYPE TEXT,\n",
    "    REGION TEXT,\n",
    "    FOREIGN KEY(REGION) REFERENCES Location(REGION)\n",
    ");\n",
    "INSERT INTO Customer (NB, NOM, PRENOM, TYPE, REGION) SELECT DISTINCT NB, NOM, PRENOM, TYPE, REGION FROM Master2;\n",
    "SELECT * FROM Customer LIMIT 3;"
   ]
  },
  {
   "cell_type": "code",
   "execution_count": 12,
   "metadata": {},
   "outputs": [
    {
     "name": "stdout",
     "output_type": "stream",
     "text": [
      " * sqlite:///wine.db\n",
      "Done.\n",
      "Done.\n",
      "185 rows affected.\n",
      "Done.\n"
     ]
    },
    {
     "data": {
      "text/html": [
       "<table>\n",
       "    <tr>\n",
       "        <th>ID_BUY</th>\n",
       "        <th>NB</th>\n",
       "        <th>NV</th>\n",
       "        <th>QTE</th>\n",
       "        <th>LIEU</th>\n",
       "        <th>DATES</th>\n",
       "    </tr>\n",
       "    <tr>\n",
       "        <td>81</td>\n",
       "        <td>None</td>\n",
       "        <td>11</td>\n",
       "        <td>None</td>\n",
       "        <td>None</td>\n",
       "        <td>None</td>\n",
       "    </tr>\n",
       "    <tr>\n",
       "        <td>83</td>\n",
       "        <td>None</td>\n",
       "        <td>13</td>\n",
       "        <td>None</td>\n",
       "        <td>None</td>\n",
       "        <td>None</td>\n",
       "    </tr>\n",
       "    <tr>\n",
       "        <td>84</td>\n",
       "        <td>None</td>\n",
       "        <td>14</td>\n",
       "        <td>None</td>\n",
       "        <td>None</td>\n",
       "        <td>None</td>\n",
       "    </tr>\n",
       "</table>"
      ],
      "text/plain": [
       "[(81, None, 11, None, None, None),\n",
       " (83, None, 13, None, None, None),\n",
       " (84, None, 14, None, None, None)]"
      ]
     },
     "execution_count": 12,
     "metadata": {},
     "output_type": "execute_result"
    }
   ],
   "source": [
    "%%sql\n",
    "DROP TABLE IF EXISTS Buy;\n",
    "CREATE TABLE Buy(\n",
    "    ID_BUY INTEGER PRIMARY KEY AUTOINCREMENT,\n",
    "    NB INTEGER,\n",
    "    NV INTEGER,\n",
    "    QTE INTEGER,\n",
    "    LIEU TEXT,\n",
    "    DATES DATETIME,\n",
    "    FOREIGN KEY(NB) REFERENCES Customer(NB),\n",
    "    FOREIGN KEY(LIEU) REFERENCES Location(LIEU),\n",
    "    FOREIGN KEY(NV) REFERENCES Wine(NV)\n",
    ");\n",
    "INSERT INTO Buy (NB, NV, QTE, LIEU, DATES) SELECT DISTINCT NB, NV, QTE, LIEU, DATES FROM Master2;\n",
    "SELECT * FROM Buy ORDER BY NB LIMIT 3;"
   ]
  },
  {
   "cell_type": "code",
   "execution_count": 13,
   "metadata": {},
   "outputs": [
    {
     "name": "stdout",
     "output_type": "stream",
     "text": [
      "Buy:\n",
      "  0: ID_BUY(INTEGER) *1\n",
      "  1: NB(INTEGER)\n",
      "  2: NV(INTEGER)\n",
      "  3: QTE(INTEGER)\n",
      "  4: LIEU(TEXT)\n",
      "  5: DATES(DATETIME)\n",
      "Customer:\n",
      "  0: ID_CUSTOMER(INTEGER) *1\n",
      "  1: NB(INTEGER)\n",
      "  2: NOM(TEXT)\n",
      "  3: PRENOM(TEXT)\n",
      "  4: TYPE(TEXT)\n",
      "  5: REGION(TEXT)\n",
      "Harvest:\n",
      "  0: NP(INTEGER)\n",
      "  1: NV(INTEGER)\n",
      "  2: QTE(INTEGER)\n",
      "Location:\n",
      "  0: LIEU(TEXT) *1\n",
      "  1: REGION(TEXT)\n",
      "MASTER1:\n",
      "  0: NV(NUM)\n",
      "  1: CRU(TEXT)\n",
      "  2: DEGRE(NUM)\n",
      "  3: MILL(NUM)\n",
      "  4: QTE(NUM)\n",
      "  5: NP(NUM)\n",
      "  6: NOM(TEXT)\n",
      "  7: PRENOM(TEXT)\n",
      "  8: REGION(TEXT)\n",
      "MASTER2:\n",
      "  0: NV(NUM)\n",
      "  1: CRU(TEXT)\n",
      "  2: DEGRE(NUM)\n",
      "  3: MILL(NUM)\n",
      "  4: DATES(DATE)\n",
      "  5: LIEU(TEXT)\n",
      "  6: QTE(NUM)\n",
      "  7: NB(NUM)\n",
      "  8: NOM(TEXT)\n",
      "  9: PRENOM(TEXT)\n",
      "  10: TYPE(TEXT)\n",
      "  11: REGION(TEXT)\n",
      "Producer:\n",
      "  0: NP(INTEGER) *1\n",
      "  1: NOM(TEXT)\n",
      "  2: PRENOM(TEXT)\n",
      "  3: REGION(TEXT)\n",
      "Wine:\n",
      "  0: NV(INTEGER) *1\n",
      "  1: CRU(TEXT)\n",
      "  2: DEGRE(FLOAT)\n",
      "  3: MILL(INTEGER)\n",
      "cles:\n",
      "  0: NP(NUM)\n",
      "  1: NV(NUM)\n",
      "  2: QTE(NUM)\n",
      "clients:\n",
      "  0: NB(NUM)\n",
      "  1: NOM(TEXT)\n",
      "  2: PRENOM(TEXT)\n",
      "  3: TYPE(TEXT)\n",
      "dummy:\n",
      "  0: DEGRE(NUM)\n",
      "orders:\n",
      "  0: NB(NUM)\n",
      "  1: NV(NUM)\n",
      "  2: DATES(NUM)\n",
      "  3: LIEU(TEXT)\n",
      "  4: QTE(NUM)\n",
      "producteur:\n",
      "  0: NP(NUM)\n",
      "  1: NOM(TEXT)\n",
      "  2: PRENOM(TEXT)\n",
      "  3: REGION(TEXT)\n",
      "producteurs:\n",
      "  0: NP(NUM)\n",
      "  1: NOM(TEXT)\n",
      "  2: PRENOM(TEXT)\n",
      "  3: REGION(TEXT)\n",
      "sqlite_sequence:\n",
      "  0: name()\n",
      "  1: seq()\n",
      "vins:\n",
      "  0: NV(NUM)\n",
      "  1: CRU(TEXT)\n",
      "  2: DEGRE(NUM)\n",
      "  3: MILL(NUM)\n",
      "vins2:\n",
      "  0: NV(NUM)\n",
      "  1: CRU(TEXT)\n",
      "  2: DEGRE(NUM)\n",
      "  3: MILL(NUM)\n",
      "  4: REGION(TEXT)\n"
     ]
    }
   ],
   "source": [
    "printSchema(conn)"
   ]
  },
  {
   "cell_type": "markdown",
   "metadata": {},
   "source": [
    "# PART II: SQL QUERIES\n",
    "\n",
    "In the second part of this TP you will create SQL queries to retrieve information from the database."
   ]
  },
  {
   "cell_type": "markdown",
   "metadata": {},
   "source": [
    "__2.1__ What are the different types of clients (buveurs) by volume of purchases?"
   ]
  },
  {
   "cell_type": "code",
   "execution_count": 14,
   "metadata": {},
   "outputs": [
    {
     "name": "stdout",
     "output_type": "stream",
     "text": [
      " * sqlite:///wine.db\n",
      "Done.\n"
     ]
    },
    {
     "data": {
      "text/html": [
       "<table>\n",
       "    <tr>\n",
       "        <th>TYPE</th>\n",
       "    </tr>\n",
       "    <tr>\n",
       "        <td>petit</td>\n",
       "    </tr>\n",
       "    <tr>\n",
       "        <td>moyen</td>\n",
       "    </tr>\n",
       "    <tr>\n",
       "        <td>gros</td>\n",
       "    </tr>\n",
       "</table>"
      ],
      "text/plain": [
       "[('petit',), ('moyen',), ('gros',)]"
      ]
     },
     "execution_count": 14,
     "metadata": {},
     "output_type": "execute_result"
    }
   ],
   "source": [
    "%%sql\n",
    "SELECT DISTINCT TYPE FROM Customer\n",
    "WHERE TYPE IS NOT NULL;"
   ]
  },
  {
   "cell_type": "markdown",
   "metadata": {},
   "source": [
    "__2.2__ What regions produce Pommard or Brouilly?"
   ]
  },
  {
   "cell_type": "code",
   "execution_count": 15,
   "metadata": {},
   "outputs": [
    {
     "name": "stdout",
     "output_type": "stream",
     "text": [
      " * sqlite:///wine.db\n",
      "Done.\n"
     ]
    },
    {
     "data": {
      "text/html": [
       "<table>\n",
       "    <tr>\n",
       "        <th>REGION</th>\n",
       "        <th>CRU</th>\n",
       "    </tr>\n",
       "    <tr>\n",
       "        <td>Bourgogne</td>\n",
       "        <td>Pommard</td>\n",
       "    </tr>\n",
       "    <tr>\n",
       "        <td>Rhone</td>\n",
       "        <td>Pommard</td>\n",
       "    </tr>\n",
       "    <tr>\n",
       "        <td>Bourgogne</td>\n",
       "        <td>Brouilly</td>\n",
       "    </tr>\n",
       "</table>"
      ],
      "text/plain": [
       "[('Bourgogne', 'Pommard'), ('Rhone', 'Pommard'), ('Bourgogne', 'Brouilly')]"
      ]
     },
     "execution_count": 15,
     "metadata": {},
     "output_type": "execute_result"
    }
   ],
   "source": [
    "%%sql\n",
    "SELECT p.REGION, w.CRU FROM Producer p\n",
    "INNER JOIN Harvest h ON p.NP = h.NP\n",
    "INNER JOIN Wine w ON h.NV = w.NV\n",
    "WHERE w.cru=\"Pommard\" OR w.cru=\"Brouilly\""
   ]
  },
  {
   "cell_type": "markdown",
   "metadata": {},
   "source": [
    "__2.3__ What regions produce Pommard and Brouilly?"
   ]
  },
  {
   "cell_type": "code",
   "execution_count": 16,
   "metadata": {},
   "outputs": [
    {
     "name": "stdout",
     "output_type": "stream",
     "text": [
      " * sqlite:///wine.db\n",
      "Done.\n"
     ]
    },
    {
     "data": {
      "text/html": [
       "<table>\n",
       "    <tr>\n",
       "        <th>REGION</th>\n",
       "    </tr>\n",
       "    <tr>\n",
       "        <td>Bourgogne</td>\n",
       "    </tr>\n",
       "</table>"
      ],
      "text/plain": [
       "[('Bourgogne',)]"
      ]
     },
     "execution_count": 16,
     "metadata": {},
     "output_type": "execute_result"
    }
   ],
   "source": [
    "%%sql\n",
    "SELECT p.REGION FROM Producer p\n",
    "INNER JOIN Harvest h ON p.NP = h.NP\n",
    "INNER JOIN Wine w ON h.NV = w.NV\n",
    "WHERE w.cru=\"Pommard\" OR w.cru=\"Brouilly\"\n",
    "GROUP BY p.REGION HAVING COUNT (*) > 1"
   ]
  },
  {
   "cell_type": "markdown",
   "metadata": {},
   "source": [
    "__2.4__ Get the number of wines bught by CRU and Millésime"
   ]
  },
  {
   "cell_type": "code",
   "execution_count": 17,
   "metadata": {},
   "outputs": [
    {
     "name": "stdout",
     "output_type": "stream",
     "text": [
      " * sqlite:///wine.db\n",
      "Done.\n"
     ]
    },
    {
     "data": {
      "text/html": [
       "<table>\n",
       "    <tr>\n",
       "        <th>QTE</th>\n",
       "        <th>CRU</th>\n",
       "        <th>MILL</th>\n",
       "    </tr>\n",
       "    <tr>\n",
       "        <td>None</td>\n",
       "        <td>Arbois</td>\n",
       "        <td>1976</td>\n",
       "    </tr>\n",
       "    <tr>\n",
       "        <td>8</td>\n",
       "        <td>Arbois</td>\n",
       "        <td>1980</td>\n",
       "    </tr>\n",
       "    <tr>\n",
       "        <td>80</td>\n",
       "        <td>Auxey Duresses</td>\n",
       "        <td>1914</td>\n",
       "    </tr>\n",
       "</table>"
      ],
      "text/plain": [
       "[(None, 'Arbois', 1976), (8, 'Arbois', 1980), (80, 'Auxey Duresses', 1914)]"
      ]
     },
     "execution_count": 17,
     "metadata": {},
     "output_type": "execute_result"
    }
   ],
   "source": [
    "%%sql\n",
    "SELECT SUM(b.QTE) AS QTE, w.CRU, w.MILL FROM Buy b\n",
    "INNER JOIN Wine w ON w.NV = b.NV\n",
    "GROUP BY w.MILL, w.CRU \n",
    "ORDER BY CRU\n",
    "LIMIT 3;"
   ]
  },
  {
   "cell_type": "markdown",
   "metadata": {},
   "source": [
    "__2.5__ Retrieve the wine number (NV) of wines produced by more than three producers"
   ]
  },
  {
   "cell_type": "code",
   "execution_count": 18,
   "metadata": {},
   "outputs": [
    {
     "name": "stdout",
     "output_type": "stream",
     "text": [
      " * sqlite:///wine.db\n",
      "Done.\n"
     ]
    },
    {
     "data": {
      "text/html": [
       "<table>\n",
       "    <tr>\n",
       "        <th>NV</th>\n",
       "        <th>CRU</th>\n",
       "        <th>numberf_of_producers</th>\n",
       "    </tr>\n",
       "    <tr>\n",
       "        <td>45</td>\n",
       "        <td>Chiroubles</td>\n",
       "        <td>5</td>\n",
       "    </tr>\n",
       "    <tr>\n",
       "        <td>78</td>\n",
       "        <td>Etoile</td>\n",
       "        <td>5</td>\n",
       "    </tr>\n",
       "    <tr>\n",
       "        <td>89</td>\n",
       "        <td>Cotes de Provence</td>\n",
       "        <td>4</td>\n",
       "    </tr>\n",
       "</table>"
      ],
      "text/plain": [
       "[(45, 'Chiroubles', 5), (78, 'Etoile', 5), (89, 'Cotes de Provence', 4)]"
      ]
     },
     "execution_count": 18,
     "metadata": {},
     "output_type": "execute_result"
    }
   ],
   "source": [
    "%%sql\n",
    "SELECT w.NV, w.cru, COUNT(p.NP) AS numberf_of_producers FROM Producer p\n",
    "INNER JOIN Harvest h ON p.NP = h.NP\n",
    "INNER JOIN Wine w ON h.NV = w.NV\n",
    "GROUP BY h.NV HAVING COUNT (p.NP) > 3\n",
    "LIMIT 3;"
   ]
  },
  {
   "cell_type": "markdown",
   "metadata": {},
   "source": [
    "__2.6__ Which producers have not produced any wine?"
   ]
  },
  {
   "cell_type": "code",
   "execution_count": 19,
   "metadata": {
    "scrolled": true
   },
   "outputs": [
    {
     "name": "stdout",
     "output_type": "stream",
     "text": [
      " * sqlite:///wine.db\n",
      "Done.\n"
     ]
    },
    {
     "data": {
      "text/html": [
       "<table>\n",
       "    <tr>\n",
       "        <th>NP</th>\n",
       "        <th>NBP</th>\n",
       "        <th>NOM</th>\n",
       "    </tr>\n",
       "    <tr>\n",
       "        <td>3</td>\n",
       "        <td>None</td>\n",
       "        <td>Six</td>\n",
       "    </tr>\n",
       "    <tr>\n",
       "        <td>6</td>\n",
       "        <td>None</td>\n",
       "        <td>Marmagne</td>\n",
       "    </tr>\n",
       "    <tr>\n",
       "        <td>8</td>\n",
       "        <td>None</td>\n",
       "        <td>Lioger d&#x27;Harduy</td>\n",
       "    </tr>\n",
       "</table>"
      ],
      "text/plain": [
       "[(3, None, 'Six'), (6, None, 'Marmagne'), (8, None, \"Lioger d'Harduy\")]"
      ]
     },
     "execution_count": 19,
     "metadata": {},
     "output_type": "execute_result"
    }
   ],
   "source": [
    "%%sql\n",
    "SELECT NP, NBP, NOM FROM (SELECT DISTINCT Producer.NP, Producer.NOM, SUM(Harvest.QTE) AS NBP FROM Producer\n",
    "                        LEFT JOIN Harvest on Producer.NP = Harvest.NP\n",
    "                        GROUP BY(Producer.NP))\n",
    "WHERE NBP IS NULL\n",
    "LIMIT 3;"
   ]
  },
  {
   "cell_type": "markdown",
   "metadata": {},
   "source": [
    "__2.7__ What clients (buveurs) have bought at least one wine from 1980?"
   ]
  },
  {
   "cell_type": "code",
   "execution_count": 20,
   "metadata": {},
   "outputs": [
    {
     "name": "stdout",
     "output_type": "stream",
     "text": [
      " * sqlite:///wine.db\n",
      "Done.\n"
     ]
    },
    {
     "data": {
      "text/html": [
       "<table>\n",
       "    <tr>\n",
       "        <th>ID_CUSTOMER</th>\n",
       "        <th>NOM</th>\n",
       "        <th>PRENOM</th>\n",
       "        <th>bottles_bought_1980</th>\n",
       "    </tr>\n",
       "    <tr>\n",
       "        <td>101</td>\n",
       "        <td>Aragon</td>\n",
       "        <td>Louis</td>\n",
       "        <td>24</td>\n",
       "    </tr>\n",
       "    <tr>\n",
       "        <td>66</td>\n",
       "        <td>Artaud</td>\n",
       "        <td>Antonin</td>\n",
       "        <td>66</td>\n",
       "    </tr>\n",
       "    <tr>\n",
       "        <td>59</td>\n",
       "        <td>Gide</td>\n",
       "        <td>Andre</td>\n",
       "        <td>171</td>\n",
       "    </tr>\n",
       "</table>"
      ],
      "text/plain": [
       "[(101, 'Aragon', 'Louis', 24),\n",
       " (66, 'Artaud', 'Antonin', 66),\n",
       " (59, 'Gide', 'Andre', 171)]"
      ]
     },
     "execution_count": 20,
     "metadata": {},
     "output_type": "execute_result"
    }
   ],
   "source": [
    "%%sql\n",
    "SELECT c.ID_CUSTOMER, c.NOM, c.PRENOM, SUM(b.QTE) AS bottles_bought_1980 FROM Customer c\n",
    "INNER JOIN Buy b on b.NB=c.NB\n",
    "INNER JOIN Wine w on w.NV=b.NV\n",
    "WHERE w.MILL=1980\n",
    "GROUP BY c.NOM, c.PRENOM\n",
    "LIMIT 3;"
   ]
  },
  {
   "cell_type": "markdown",
   "metadata": {},
   "source": [
    "__2.8__ What clients (buveurs) have NOT bought any wine from 1980?"
   ]
  },
  {
   "cell_type": "code",
   "execution_count": 21,
   "metadata": {},
   "outputs": [
    {
     "name": "stdout",
     "output_type": "stream",
     "text": [
      " * sqlite:///wine.db\n",
      "Done.\n"
     ]
    },
    {
     "data": {
      "text/html": [
       "<table>\n",
       "    <tr>\n",
       "        <th>NOM</th>\n",
       "        <th>PRENOM</th>\n",
       "        <th>bottles_bought_1980</th>\n",
       "    </tr>\n",
       "    <tr>\n",
       "        <td>Ajar</td>\n",
       "        <td>Emile</td>\n",
       "        <td>280</td>\n",
       "    </tr>\n",
       "    <tr>\n",
       "        <td>Andersen</td>\n",
       "        <td>Yann</td>\n",
       "        <td>1</td>\n",
       "    </tr>\n",
       "    <tr>\n",
       "        <td>Anouilh</td>\n",
       "        <td>Jean</td>\n",
       "        <td>6</td>\n",
       "    </tr>\n",
       "</table>"
      ],
      "text/plain": [
       "[('Ajar', 'Emile', 280), ('Andersen', 'Yann', 1), ('Anouilh', 'Jean', 6)]"
      ]
     },
     "execution_count": 21,
     "metadata": {},
     "output_type": "execute_result"
    }
   ],
   "source": [
    "%%sql\n",
    "SELECT c.NOM, c.PRENOM, SUM(b.QTE) AS bottles_bought_1980 FROM Customer c\n",
    "INNER JOIN Buy b on b.NB=c.NB\n",
    "INNER JOIN Wine w on w.NV=b.NV\n",
    "WHERE w.MILL!=1980\n",
    "GROUP BY NOM, PRENOM\n",
    "LIMIT 3;"
   ]
  },
  {
   "cell_type": "markdown",
   "metadata": {},
   "source": [
    "__2.9__ What clients (buveurs) have bought ONLY wines from 1980?"
   ]
  },
  {
   "cell_type": "code",
   "execution_count": 22,
   "metadata": {},
   "outputs": [
    {
     "name": "stdout",
     "output_type": "stream",
     "text": [
      " * sqlite:///wine.db\n",
      "Done.\n"
     ]
    },
    {
     "data": {
      "text/html": [
       "<table>\n",
       "    <tr>\n",
       "        <th>NOM</th>\n",
       "        <th>PRENOM</th>\n",
       "        <th>bottles_bought_1980</th>\n",
       "    </tr>\n",
       "    <tr>\n",
       "        <td>Aragon</td>\n",
       "        <td>Louis</td>\n",
       "        <td>264</td>\n",
       "    </tr>\n",
       "    <tr>\n",
       "        <td>Artaud</td>\n",
       "        <td>Antonin</td>\n",
       "        <td>1166</td>\n",
       "    </tr>\n",
       "    <tr>\n",
       "        <td>Gide</td>\n",
       "        <td>Andre</td>\n",
       "        <td>171</td>\n",
       "    </tr>\n",
       "</table>"
      ],
      "text/plain": [
       "[('Aragon', 'Louis', 264), ('Artaud', 'Antonin', 1166), ('Gide', 'Andre', 171)]"
      ]
     },
     "execution_count": 22,
     "metadata": {},
     "output_type": "execute_result"
    }
   ],
   "source": [
    "%%sql\n",
    "SELECT c.NOM, c.PRENOM, SUM(b.QTE) AS bottles_bought_1980 FROM Customer c\n",
    "INNER JOIN Buy b on b.NB=c.NB\n",
    "INNER JOIN Wine w on w.NV=b.NV\n",
    "GROUP BY NOM, PRENOM\n",
    "EXCEPT\n",
    "SELECT c.NOM, c.PRENOM, SUM(b.QTE) AS bottles_bought_1980 FROM Customer c\n",
    "INNER JOIN Buy b on b.NB=c.NB\n",
    "INNER JOIN Wine w on w.NV=b.NV\n",
    "WHERE w.MILL!=1980\n",
    "GROUP BY NOM, PRENOM\n",
    "LIMIT 3;"
   ]
  },
  {
   "cell_type": "markdown",
   "metadata": {},
   "source": [
    "__2.10__ List all wines from 1980"
   ]
  },
  {
   "cell_type": "code",
   "execution_count": 23,
   "metadata": {},
   "outputs": [
    {
     "name": "stdout",
     "output_type": "stream",
     "text": [
      " * sqlite:///wine.db\n",
      "Done.\n",
      "(sqlite3.OperationalError) near \"LIMIT\": syntax error [SQL: 'LIMIT 3;'] (Background on this error at: http://sqlalche.me/e/e3q8)\n"
     ]
    }
   ],
   "source": [
    "%%sql\n",
    "SELECT *\n",
    "FROM Wine\n",
    "WHERE MILL=1980\n",
    "ORDER BY NV asc;\n",
    "LIMIT 3;"
   ]
  },
  {
   "cell_type": "markdown",
   "metadata": {},
   "source": [
    "__2.11__ What are the wines from 1980 bought by NB=2?"
   ]
  },
  {
   "cell_type": "code",
   "execution_count": 24,
   "metadata": {},
   "outputs": [
    {
     "name": "stdout",
     "output_type": "stream",
     "text": [
      " * sqlite:///wine.db\n",
      "Done.\n"
     ]
    },
    {
     "data": {
      "text/html": [
       "<table>\n",
       "    <tr>\n",
       "        <th>NV</th>\n",
       "        <th>CRU</th>\n",
       "        <th>DEGRE</th>\n",
       "        <th>MILL</th>\n",
       "        <th>ID_BUY</th>\n",
       "        <th>NB</th>\n",
       "        <th>NV_1</th>\n",
       "        <th>QTE</th>\n",
       "        <th>LIEU</th>\n",
       "        <th>DATES</th>\n",
       "    </tr>\n",
       "    <tr>\n",
       "        <td>1</td>\n",
       "        <td>Mercurey</td>\n",
       "        <td>11.5</td>\n",
       "        <td>1980</td>\n",
       "        <td>58</td>\n",
       "        <td>2</td>\n",
       "        <td>1</td>\n",
       "        <td>33</td>\n",
       "        <td>BORDEAUX</td>\n",
       "        <td>1977-11-02</td>\n",
       "    </tr>\n",
       "</table>"
      ],
      "text/plain": [
       "[(1, 'Mercurey', 11.5, 1980, 58, 2, 1, 33, 'BORDEAUX', '1977-11-02')]"
      ]
     },
     "execution_count": 24,
     "metadata": {},
     "output_type": "execute_result"
    }
   ],
   "source": [
    "%%sql\n",
    "SELECT * FROM Wine w\n",
    "INNER JOIN Buy b ON w.NV = b.NV\n",
    "WHERE MILL=1980 AND b.NB=2\n",
    "GROUP BY w.NV;"
   ]
  },
  {
   "cell_type": "markdown",
   "metadata": {},
   "source": [
    "__2.12__ What clients (buveurs) have bought ALL the wines from 1980?"
   ]
  },
  {
   "cell_type": "code",
   "execution_count": 25,
   "metadata": {},
   "outputs": [
    {
     "name": "stdout",
     "output_type": "stream",
     "text": [
      " * sqlite:///wine.db\n",
      "Done.\n"
     ]
    },
    {
     "data": {
      "text/html": [
       "<table>\n",
       "    <tr>\n",
       "        <th>NB</th>\n",
       "        <th>Counter</th>\n",
       "        <th>PRENOM</th>\n",
       "        <th>NOM</th>\n",
       "    </tr>\n",
       "    <tr>\n",
       "        <td>44</td>\n",
       "        <td>18</td>\n",
       "        <td>Andre</td>\n",
       "        <td>Gide</td>\n",
       "    </tr>\n",
       "</table>"
      ],
      "text/plain": [
       "[(44, 18, 'Andre', 'Gide')]"
      ]
     },
     "execution_count": 25,
     "metadata": {},
     "output_type": "execute_result"
    }
   ],
   "source": [
    "%%sql\n",
    "SELECT DISTINCT b.NB, COUNT(b.NV) AS Counter, c.PRENOM, c.NOM FROM Buy b\n",
    "INNER JOIN Wine w ON b.NV=w.NV\n",
    "INNER JOIN Customer c ON c.NB = b.NB\n",
    "WHERE w.MILL=1980\n",
    "GROUP BY b.NB HAVING Counter = 18"
   ]
  },
  {
   "cell_type": "code",
   "execution_count": null,
   "metadata": {},
   "outputs": [],
   "source": []
  }
 ],
 "metadata": {
  "anaconda-cloud": {},
  "kernelspec": {
   "display_name": "Python 3",
   "language": "python",
   "name": "python3"
  },
  "language_info": {
   "codemirror_mode": {
    "name": "ipython",
    "version": 3
   },
   "file_extension": ".py",
   "mimetype": "text/x-python",
   "name": "python",
   "nbconvert_exporter": "python",
   "pygments_lexer": "ipython3",
   "version": "3.6.5"
  },
  "toc": {
   "nav_menu": {},
   "number_sections": true,
   "sideBar": true,
   "skip_h1_title": false,
   "toc_cell": false,
   "toc_position": {},
   "toc_section_display": "block",
   "toc_window_display": false
  }
 },
 "nbformat": 4,
 "nbformat_minor": 1
}
