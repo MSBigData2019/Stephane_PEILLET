{
 "cells": [
  {
   "cell_type": "markdown",
   "metadata": {},
   "source": [
    "<h1><center>TP 2 :  LINEAR REGRESSION MDI720</center></h1>"
   ]
  },
  {
   "cell_type": "markdown",
   "metadata": {},
   "source": [
    "## Exercice 1:  \n",
    "_(Analyse de la base de données “investment data”)_\n",
    "\n",
    "La lecture d’un tutoriel pandas pourra être utile : http://pandas.pydata.org/pandas-docs/stable/tutorials.html. Nous travaillons sur la base de données Investment Data Set1 qui peut être téléchargée depuis https://bitbucket.org/portierf/shared_files/downloads/invest.txt. Avant de commencer, on réalisera l’exercice 12 du polycopié : ”explicit formulas when p “1 for prediction intervals\", se trouvant dans le chapitre 3 : “Confidence intervals and hypothesis testing”. On pourra aussi lire la section 3.1.1 de ce même chapitre du polycopié."
   ]
  },
  {
   "cell_type": "markdown",
   "metadata": {},
   "source": [
    "#### Imports :"
   ]
  },
  {
   "cell_type": "code",
   "execution_count": 46,
   "metadata": {},
   "outputs": [],
   "source": [
    "import numpy as np\n",
    "import pandas as pd\n",
    "import math\n",
    "import matplotlib.pyplot as plt\n",
    "import seaborn as sns\n",
    "from scipy import stats as scs\n",
    "from scipy.stats import t\n",
    "import statsmodels.api as sm\n",
    "import scipy.stats\n",
    "from sklearn import linear_model\n",
    "from mpl_toolkits.mplot3d import Axes3D\n",
    "import warnings \n",
    "warnings.filterwarnings(\"ignore\")"
   ]
  },
  {
   "cell_type": "markdown",
   "metadata": {},
   "source": [
    "### Question 1:\n",
    "Importer la base de données “invest.txt” et l’afficher dans une forme lisible, e.g. une table contenant les 5 premières observations."
   ]
  },
  {
   "cell_type": "code",
   "execution_count": 47,
   "metadata": {},
   "outputs": [
    {
     "data": {
      "text/html": [
       "<div>\n",
       "<style scoped>\n",
       "    .dataframe tbody tr th:only-of-type {\n",
       "        vertical-align: middle;\n",
       "    }\n",
       "\n",
       "    .dataframe tbody tr th {\n",
       "        vertical-align: top;\n",
       "    }\n",
       "\n",
       "    .dataframe thead th {\n",
       "        text-align: right;\n",
       "    }\n",
       "</style>\n",
       "<table border=\"1\" class=\"dataframe\">\n",
       "  <thead>\n",
       "    <tr style=\"text-align: right;\">\n",
       "      <th></th>\n",
       "      <th>year</th>\n",
       "      <th>gnp</th>\n",
       "      <th>invest</th>\n",
       "      <th>cpi</th>\n",
       "      <th>interest</th>\n",
       "    </tr>\n",
       "  </thead>\n",
       "  <tbody>\n",
       "    <tr>\n",
       "      <th>0</th>\n",
       "      <td>1968</td>\n",
       "      <td>873.4</td>\n",
       "      <td>133.3</td>\n",
       "      <td>82.54</td>\n",
       "      <td>5.16</td>\n",
       "    </tr>\n",
       "    <tr>\n",
       "      <th>1</th>\n",
       "      <td>1969</td>\n",
       "      <td>944.0</td>\n",
       "      <td>149.3</td>\n",
       "      <td>86.79</td>\n",
       "      <td>5.87</td>\n",
       "    </tr>\n",
       "    <tr>\n",
       "      <th>2</th>\n",
       "      <td>1970</td>\n",
       "      <td>992.7</td>\n",
       "      <td>144.2</td>\n",
       "      <td>91.45</td>\n",
       "      <td>5.95</td>\n",
       "    </tr>\n",
       "    <tr>\n",
       "      <th>3</th>\n",
       "      <td>1971</td>\n",
       "      <td>1077.6</td>\n",
       "      <td>166.4</td>\n",
       "      <td>96.01</td>\n",
       "      <td>4.88</td>\n",
       "    </tr>\n",
       "    <tr>\n",
       "      <th>4</th>\n",
       "      <td>1972</td>\n",
       "      <td>1185.9</td>\n",
       "      <td>195.0</td>\n",
       "      <td>100.00</td>\n",
       "      <td>4.50</td>\n",
       "    </tr>\n",
       "  </tbody>\n",
       "</table>\n",
       "</div>"
      ],
      "text/plain": [
       "   year     gnp  invest     cpi  interest\n",
       "0  1968   873.4   133.3   82.54      5.16\n",
       "1  1969   944.0   149.3   86.79      5.87\n",
       "2  1970   992.7   144.2   91.45      5.95\n",
       "3  1971  1077.6   166.4   96.01      4.88\n",
       "4  1972  1185.9   195.0  100.00      4.50"
      ]
     },
     "execution_count": 47,
     "metadata": {},
     "output_type": "execute_result"
    }
   ],
   "source": [
    "df = pd.read_csv(\"https://bitbucket.org/portierf/shared_files/downloads/invest.txt\", sep = \" \")\n",
    "df.head()"
   ]
  },
  {
   "cell_type": "code",
   "execution_count": 48,
   "metadata": {},
   "outputs": [],
   "source": [
    "# Définition de x et de y comme étant respectivement la colonne 'gnp' et 'invest' de la dataframe. Le nombre \n",
    "# d'éléments dans l'échantillon est noté n.\n",
    "x = df['gnp']\n",
    "y = df['invest']\n",
    "n = len(x)"
   ]
  },
  {
   "cell_type": "markdown",
   "metadata": {},
   "source": [
    "### Question 2:\n",
    "Réaliser le graph suivant : la variable “Gross National Product” (GNP, column “gnp”) est en abscisse et la variable “Investment” (column “invest”) est en ordonnée. Transformer les 2 variables précédentes en échelle logarithmique. Nous travaillerons désormais avec les 2 nouvelles variables."
   ]
  },
  {
   "cell_type": "code",
   "execution_count": 49,
   "metadata": {},
   "outputs": [
    {
     "data": {
      "image/png": "[encoded data removed]",
      "text/plain": [
       "<Figure size 720x432 with 1 Axes>"
      ]
     },
     "metadata": {},
     "output_type": "display_data"
    }
   ],
   "source": [
    "# Graph de la courbe du GNP en fonction de l'investissement. \n",
    "plt.figure(figsize=(10, 6))\n",
    "plt.plot(x, y,\"o\")\n",
    "plt.xlabel('Gross National Product', fontsize = 12)\n",
    "plt.ylabel('Investment', fontsize = 12)\n",
    "plt.xlim(500,3500)\n",
    "plt.ylim(100,500)\n",
    "plt.show()\n",
    "sns.set_style(\"darkgrid\")"
   ]
  },
  {
   "cell_type": "code",
   "execution_count": 50,
   "metadata": {},
   "outputs": [],
   "source": [
    "# Transformations des variables à l'échelle logarithmique.\n",
    "x = np.log(x) \n",
    "y = np.log(y)"
   ]
  },
  {
   "cell_type": "markdown",
   "metadata": {},
   "source": [
    "### Question 3: \n",
    "Pour la régression de ”Investment” (variable à expliquer, output) sur ”GNP” (variable explicative,\n",
    "covariable), estimer l’intercept et la pente, leurs écart-types, ainsi que le coefficient de détermination.\n",
    "Les afficher dans une forme lisible. Dans la suite le vecteur contenant l’intercept et la pente est noté:$$ \\hat\\theta_n\\in\\mathbb{R}^2$$"
   ]
  },
  {
   "cell_type": "markdown",
   "metadata": {},
   "source": [
    "D'après l'exercice 12 : \n",
    "$$\\hat\\beta_0 = \\overline{y}_n - \\overline{x}_n\\hat\\beta_1$$\n",
    "\n",
    "$$\\hat\\beta_1 = \\frac{\\sum_{i=1}^n(x_i-\\overline{x}_n)(y_i-\\overline{y}_n)}{\\sum_{i=1}^n(x_i-\\overline{x}_n)^2}$$ "
   ]
  },
  {
   "cell_type": "code",
   "execution_count": 51,
   "metadata": {},
   "outputs": [
    {
     "name": "stdout",
     "output_type": "stream",
     "text": [
      "Régression linéaire de 'Investment' sur le'GNP':\n",
      "- l'intercept est égale à : -1.964.\n",
      "- la pente est égale à : 1.015.\n"
     ]
    }
   ],
   "source": [
    "# Calcul des moyennes de x et y.\n",
    "y_m = y.mean()\n",
    "x_m = x.mean()\n",
    "\n",
    "# Calcul de l'intercept beta0 et de la pente beta1.\n",
    "beta1 = ((x - x_m) * (y - y_m)).sum() / np.dot((x - x_m),np.transpose(x - x_m))\n",
    "beta0 = y_m - beta1 * x_m\n",
    "print(f\"Régression linéaire de 'Investment' sur le'GNP':\")\n",
    "print(f\"- l'intercept est égale à : {round(beta0, 3)}.\")\n",
    "print(f\"- la pente est égale à : {round(beta1, 3)}.\")"
   ]
  },
  {
   "cell_type": "code",
   "execution_count": 52,
   "metadata": {},
   "outputs": [
    {
     "name": "stdout",
     "output_type": "stream",
     "text": [
      "L'estimateur de l'écart-type s2 vaut: 0.01.\n"
     ]
    }
   ],
   "source": [
    "#On peut désormais définir notre estimateur:\n",
    "yE = beta0 + beta1 * x\n",
    "\n",
    "#Estimation de l'écart-type s2:  \n",
    "s2 = np.dot((y - yE), np.transpose(y - yE))/(n-2) \n",
    "print(f\"L'estimateur de l'écart-type s2 vaut: {round(s2, 2)}.\")"
   ]
  },
  {
   "cell_type": "code",
   "execution_count": 53,
   "metadata": {},
   "outputs": [
    {
     "name": "stdout",
     "output_type": "stream",
     "text": [
      "La variance de Beta0 vaut: 0.17.\n",
      "La variance de Beta1 vaut: 0.0.\n"
     ]
    }
   ],
   "source": [
    "#A partir de s2 on calcul les écart-types de beta0 et de beta1.\n",
    "v_B0 = s2 * ((1/n) + ((x_m**2)/np.dot((x - x_m),np.transpose(x - x_m)))) \n",
    "v_B1 = s2 / np.dot((x - x_m),np.transpose(x - x_m))\n",
    "print(f\"La variance de Beta0 vaut: {round(v_B0, 2)}.\")\n",
    "print(f\"La variance de Beta1 vaut: {round(v_B1, 2)}.\")"
   ]
  },
  {
   "cell_type": "code",
   "execution_count": 54,
   "metadata": {},
   "outputs": [
    {
     "name": "stdout",
     "output_type": "stream",
     "text": [
      "L'écart-type de Beta0 vaut: 0.41.\n",
      "L'écart-type de Beta1 vaut: 0.06.\n"
     ]
    }
   ],
   "source": [
    "#A partir des variances on calcule les écart-types de beta0 et de beta1.\n",
    "std_B0 = np.sqrt(v_B0) \n",
    "std_B1 = np.sqrt(v_B1)\n",
    "print(f\"L'écart-type de Beta0 vaut: {round(std_B0, 2)}.\")\n",
    "print(f\"L'écart-type de Beta1 vaut: {round(std_B1, 2)}.\")\n",
    "beta = np.matrix([beta0, beta1])\n",
    "beta = beta.reshape(2, 1)"
   ]
  },
  {
   "cell_type": "code",
   "execution_count": 55,
   "metadata": {},
   "outputs": [
    {
     "name": "stdout",
     "output_type": "stream",
     "text": [
      "Coefficient de détermination R2: 0.96.\n"
     ]
    }
   ],
   "source": [
    "# Calcul du coefficient de détermination R2:\n",
    "r2 = np.dot((yE - y_m),np.transpose(yE - y_m)) / np.dot((y - y_m),np.transpose(y - y_m))\n",
    "print(f\"Coefficient de détermination R2: {round(r2, 2)}.\")"
   ]
  },
  {
   "cell_type": "markdown",
   "metadata": {},
   "source": [
    "### Question 4:\n",
    "La pente estimée précédemment est-elle statistiquement significative ? On fera un test de student (t-test). Donner la valeur de la statistique de test ainsi que la p-valeur."
   ]
  },
  {
   "cell_type": "markdown",
   "metadata": {},
   "source": [
    "On fait un test de Student à 95% bilatéral\n",
    "$$H0 :\\beta_1 = 0$$\n",
    "$$H1 : \\beta_1 \\ne 0$$"
   ]
  },
  {
   "cell_type": "code",
   "execution_count": 56,
   "metadata": {},
   "outputs": [
    {
     "name": "stdout",
     "output_type": "stream",
     "text": [
      "La statistique de student vaut: 18.33\n",
      "La p-valeur vaut: 0.0\n",
      "Statistiques de student = 18.33\n",
      "Quantile = 2.16\n"
     ]
    }
   ],
   "source": [
    "# Le test étant à 95% alpha vaut donc 5%.\n",
    "alpha = 0.05\n",
    "\n",
    "# Calcul de la statistique de student:\n",
    "stat_student = beta1 / std_B1\n",
    "print(f\"La statistique de student vaut: {round(stat_student, 2)}\")\n",
    "\n",
    "# Calcul de la p-valeur: \n",
    "p_value = 2*(1- scs.t.cdf(np.abs(stat_student), (n - 2)))\n",
    "print(f\"La p-valeur vaut: {round(p_value, 2)}\")\n",
    "\n",
    "# Degré de liberté:\n",
    "ddl = n - 2\n",
    "\n",
    "# Calcul du quantile:\n",
    "quantile_student = t.ppf(1 - alpha/2, df=ddl)\n",
    "\n",
    "# Calcul de la p-value: \n",
    "pvalue = 2*(1 - t.cdf(stat_student, df = ddl)) \n",
    "print(f\"Statistiques de student = {round(stat_student, 2)}\")\n",
    "print(f\"Quantile = {round(quantile_student, 2)}\")"
   ]
  },
  {
   "cell_type": "code",
   "execution_count": 57,
   "metadata": {},
   "outputs": [
    {
     "name": "stdout",
     "output_type": "stream",
     "text": [
      "La statistique de Student est supérieur au quantile\n",
      "On rejette l'hypothèse.\n",
      "La p-valeur est inférieur à alpha.\n",
      "On rejette l'hypothèse.\n",
      "L'hypothèse que la pente soit égale à 0 est rejettée donc on peut en conclure que la pente est significative.\n"
     ]
    }
   ],
   "source": [
    "#Interprétation des tests:\n",
    "def testStudent(stat, quantile): \n",
    "    if np.abs(stat) >= quantile: \n",
    "        print(\"La statistique de Student est supérieur au quantile\")\n",
    "        return True\n",
    "    else: \n",
    "        print(\"La statistique de Student est inférieur au quantile.\") \n",
    "        return False        \n",
    "\n",
    "def testpvalue(alpha, pvalue):\n",
    "    if pvalue < alpha: \n",
    "        print(\"La p-valeur est inférieur à alpha.\")\n",
    "        return True\n",
    "    else: \n",
    "        print(\"La p-valeur est supérieur à alpha.\") \n",
    "        return False\n",
    "        \n",
    "def hypothese(boolean):\n",
    "    if(boolean):\n",
    "        print(\"On rejette l'hypothèse.\")\n",
    "    else:\n",
    "        print(\"On ne rejette pas l'hypothèse.\")\n",
    "        \n",
    "hypothese(testStudent(stat_student, quantile_student))\n",
    "hypothese(testpvalue(alpha, pvalue))\n",
    "print(\"L'hypothèse que la pente soit égale à 0 est rejettée donc on peut en conclure que la pente est significative.\")"
   ]
  },
  {
   "cell_type": "markdown",
   "metadata": {},
   "source": [
    "### Question 5:\n",
    "Pour GNP égal à 1000, estimer l’investissement prédit par le modèle. Pour GNP égal à 1000, donner l’intervalle de confiance pour la valeur prédite et l’intervalle de confiance pour la variable à expliquer “Investment”, au niveau\n",
    "90%. On pourra se référer à la section 3.1.3 “Confidence intervals for the predicted values” du polycopié dans laquelle chaque intervalle est défini, CI(x) et PI(x), respectivement."
   ]
  },
  {
   "cell_type": "code",
   "execution_count": 58,
   "metadata": {},
   "outputs": [
    {
     "name": "stdout",
     "output_type": "stream",
     "text": [
      "La prédiction pour un GNP de 1000 est égale à: 155.98\n"
     ]
    }
   ],
   "source": [
    "# Création de la matrice X.\n",
    "x1 = np.array([1, np.log(1000)])\n",
    "ones = np.ones(15)\n",
    "X = np.c_[ones, x]\n",
    "invGram = np.linalg.inv(np.dot(X.T,X))\n",
    "diag = np.diag(X.dot(invGram).dot(np.transpose(X)))\n",
    "res = np.dot(X, beta)\n",
    "res = np.asarray(res).reshape(-1)\n",
    "\n",
    "# Prédiction de l'instissement avec le modèle précédent et un GNP égale à 1000.\n",
    "x0 = np.log(1000)\n",
    "y0 = beta0 + beta1 * x0\n",
    "pred = np.exp(y0)\n",
    "print(f\"La prédiction pour un GNP de 1000 est égale à: {round(pred,2)}\")"
   ]
  },
  {
   "cell_type": "code",
   "execution_count": 59,
   "metadata": {},
   "outputs": [
    {
     "name": "stdout",
     "output_type": "stream",
     "text": [
      "L'intervalle de confiance est : [146.676 , 165.873]\n",
      "L'intervalle de prédiction est : [132.002, 184.312]\n"
     ]
    }
   ],
   "source": [
    "# Quantile Student à 90% \n",
    "quantile_student_90 = t.ppf(1 - 0.1/2, df=ddl)\n",
    "Z = np.dot(np.dot(x1.T,invGram),x1)\n",
    "\n",
    "# Calcul de l'intervalle de confiance pour la valeur prédite.    \n",
    "CI_min = y0 - quantile_student_90 * np.sqrt(s2 * Z)\n",
    "CI_max = y0 + quantile_student_90 * np.sqrt(s2 * Z)\n",
    "print(f\"L'intervalle de confiance est : [{round(np.exp(CI_min), 3)} , {round(np.exp(CI_max), 3)}]\")\n",
    "\n",
    "# Calcul de l'intervalle de prédiction pour la valeur prédite.\n",
    "PI_min = y0 - quantile_student_90 * np.sqrt(s2*(1 + Z))\n",
    "PI_max = y0 + quantile_student_90 * np.sqrt(s2*(1 + Z))\n",
    "print(f\"L'intervalle de prédiction est : [{round(np.exp(PI_min),3)}, {round(np.exp(PI_max), 3)}]\")\n",
    "\n",
    "# Calcul des vecteurs pour le traçage du graph.\n",
    "CIminf = res - quantile_student_90 * np.sqrt(s2 * diag)\n",
    "CImaxf = res +  quantile_student_90 * np.sqrt(s2 * diag)\n",
    "\n",
    "PIminf = res - quantile_student_90 * np.sqrt(s2*(1 + diag))\n",
    "PImaxf = res + quantile_student_90 * np.sqrt(s2*(1 + diag))"
   ]
  },
  {
   "cell_type": "markdown",
   "metadata": {},
   "source": [
    "### Question 6:\n",
    "Sur un graphe avec échelle logarithmique, avec GNP en abscisse et investment en ordonnée, tracer les données, la droite de régression, ainsi que les intervalle CI et PI (pour toutes les valeurs de log(GNP) comprises entre le maximum et le minimum observé sur les données)"
   ]
  },
  {
   "cell_type": "code",
   "execution_count": 60,
   "metadata": {
    "scrolled": true
   },
   "outputs": [
    {
     "data": {
      "image/png": "[encoded data removed]",
      "text/plain": [
       "<Figure size 720x432 with 1 Axes>"
      ]
     },
     "metadata": {},
     "output_type": "display_data"
    }
   ],
   "source": [
    "# Graph de la courbe du GNP en fonction de l'investissement. \n",
    "plt.figure(figsize=(10, 6))\n",
    "plt.plot(x, y,\"o\")\n",
    "plt.plot(x, yE,\"orange\")\n",
    "# Intervalles de confiances en bleue.\n",
    "plt.plot(x, CIminf, \"blue\")\n",
    "plt.plot(x, CImaxf, \"blue\")\n",
    "# Intervalles de prédiction en rouges.\n",
    "plt.plot(x, PIminf, \"red\")\n",
    "plt.plot(x, PImaxf, \"red\")\n",
    "plt.xlabel('Gross National Product', fontsize = 12)\n",
    "plt.ylabel('Investment', fontsize = 12)\n",
    "plt.show()\n",
    "sns.set_style(\"darkgrid\")"
   ]
  },
  {
   "cell_type": "markdown",
   "metadata": {},
   "source": [
    "### Question 7:\n",
    "En utilisant des classes/librairies existantes, donner l’intercept, la pente, le coefficient de détermination ainsi que l’investissement prédit par le modèle quand GNP vaut 100. La classe LinearRegression() de sklearn.linear_model est suggérée mais pas obligatoire. Vérifier que les valeurs calculées ici coïncident avec celles des questions précédentes."
   ]
  },
  {
   "cell_type": "code",
   "execution_count": 61,
   "metadata": {},
   "outputs": [
    {
     "name": "stdout",
     "output_type": "stream",
     "text": [
      "                            OLS Regression Results                            \n",
      "==============================================================================\n",
      "Dep. Variable:                 invest   R-squared:                       0.963\n",
      "Model:                            OLS   Adj. R-squared:                  0.960\n",
      "Method:                 Least Squares   F-statistic:                     336.1\n",
      "Date:                Thu, 18 Oct 2018   Prob (F-statistic):           1.14e-10\n",
      "Time:                        19:10:01   Log-Likelihood:                 16.311\n",
      "No. Observations:                  15   AIC:                            -28.62\n",
      "Df Residuals:                      13   BIC:                            -27.21\n",
      "Df Model:                           1                                         \n",
      "Covariance Type:            nonrobust                                         \n",
      "==============================================================================\n",
      "                 coef    std err          t      P>|t|      [0.025      0.975]\n",
      "------------------------------------------------------------------------------\n",
      "const         -1.9636      0.410     -4.795      0.000      -2.848      -1.079\n",
      "gnp            1.0153      0.055     18.332      0.000       0.896       1.135\n",
      "==============================================================================\n",
      "Omnibus:                        0.683   Durbin-Watson:                   1.343\n",
      "Prob(Omnibus):                  0.711   Jarque-Bera (JB):                0.597\n",
      "Skew:                          -0.412   Prob(JB):                        0.742\n",
      "Kurtosis:                       2.474   Cond. No.                         136.\n",
      "==============================================================================\n",
      "\n",
      "Warnings:\n",
      "[1] Standard Errors assume that the covariance matrix of the errors is correctly specified.\n"
     ]
    }
   ],
   "source": [
    "# Vérification pour : pente, intercept, R², écart types, pvalues\n",
    "X_sm = sm.add_constant(x)\n",
    "ols = sm.OLS(y, X_sm)\n",
    "ols_result = ols.fit()\n",
    "print(ols_result.summary())"
   ]
  },
  {
   "cell_type": "markdown",
   "metadata": {},
   "source": [
    "### Question 8:\n",
    "Sur un graph avec échelle logarithmique, avec GNP en abscisse et investment en ordonnée, tracer les données, la droite de régression, ainsi que l’investissement prédit par le modèle quand GNP vaut 100 (on donnera à ce point une couleur différente)."
   ]
  },
  {
   "cell_type": "code",
   "execution_count": 62,
   "metadata": {},
   "outputs": [
    {
     "data": {
      "image/png": "[encoded data removed]",
      "text/plain": [
       "<Figure size 936x504 with 1 Axes>"
      ]
     },
     "metadata": {},
     "output_type": "display_data"
    }
   ],
   "source": [
    "ones = np.ones(n).reshape(n,1)\n",
    "Xt_mat = x.values.reshape(n,1)\n",
    "Xnew = np.matrix([[1],[x0]])\n",
    "X_mat = np.concatenate([ones,Xt_mat],axis=1)\n",
    "model=linear_model.LinearRegression(fit_intercept=False).fit(X_mat,y)\n",
    "y_model_pred=model.predict(Xnew.reshape(1,2))[0]\n",
    "\n",
    "# Graph de la courbe du GNP en fonction de l'investissement. \n",
    "plt.figure(figsize=(13,7))\n",
    "plt.plot(x, y,\"rx\")\n",
    "plt.plot(x0, y_model_pred,\"go\")\n",
    "\n",
    "plt.title(\"Investment per GNP (Log scale)\", fontsize = 15)\n",
    "plt.xlabel(\"log Gross Nationnal Product\")\n",
    "plt.ylabel(\"log Investment\")\n",
    "plt.legend((\"Investment\",\"Valeur prédite\",\"Droite de régression\"))\n",
    "plt.show()"
   ]
  },
  {
   "cell_type": "markdown",
   "metadata": {},
   "source": [
    "### Question 9:\n",
    "Pour la régression de Investment sur GNP et interest, calculer la matrice de Gram. Est-elle de rang plein ?"
   ]
  },
  {
   "cell_type": "code",
   "execution_count": 63,
   "metadata": {},
   "outputs": [
    {
     "name": "stdout",
     "output_type": "stream",
     "text": [
      "L'inverse de la matrice de gram existe donc elle est de plein rang (ici = 3).\n",
      "L'une des valeurs propre est très faible, ce qui peut laisser entendre une dépendance linéaire entre nos variables\n"
     ]
    }
   ],
   "source": [
    "interest = df['interest']\n",
    "X1 = np.c_[ones, x, interest]\n",
    "gram = (np.dot(X1.T, X1))\n",
    "np.linalg.inv(gram)\n",
    "X1_rank = np.linalg.matrix_rank(gram)\n",
    "print(f\"L'inverse de la matrice de gram existe donc elle est de plein rang (ici = {X1_rank}).\")\n",
    "print(f\"L'une des valeurs propre est très faible, ce qui peut laisser entendre une dépendance linéaire entre nos variables\")"
   ]
  },
  {
   "cell_type": "markdown",
   "metadata": {},
   "source": [
    "### Question 10:\n",
    "Pour la régression de Investment sur GNP et interest, estimer les 3 coefficients et leurs écart-types ainsi que le coefficient de détermination. En plus, faire un test de Student de significativité de chaque coefficient (donner la statistique de test et la p-valeur). Afficher les résultats dans une forme convenable. Discuter de la significativité des coefficients.\n",
    "\n",
    "_On teste avec Student :_\n",
    "\n",
    "$H_0 : \\beta_j = 0 $ $(j = \\{0, 1, 2\\})$\n",
    "\n",
    "$H_1 : \\beta_j \\ne 0$"
   ]
  },
  {
   "cell_type": "code",
   "execution_count": 64,
   "metadata": {},
   "outputs": [
    {
     "name": "stdout",
     "output_type": "stream",
     "text": [
      "Les coefficients sont : [-2.18045473  1.05124269 -0.00652888].\n",
      "Les écart-types sont : [0.6623992  0.10206138 0.01534421].\n",
      "Coefficient de détermination vaut : 0.963\n",
      "---------------------------------------\n",
      "Test pour beta0\n",
      "Statistiques de student = 3.29 \n",
      " Quantile = 2.16\n",
      " On rejette H0.\n",
      "La p-valeur est : 0.006 \n",
      " On rejette H0.\n",
      "---------------------------------------\n",
      "Test pour beta1\n",
      "Statistiques de student = 10.3 \n",
      " Quantile = 2.16\n",
      " On rejette H0.\n",
      "La p-valeur est : 0.0 \n",
      " On rejette H0.\n",
      "---------------------------------------\n",
      "Test pour beta2\n",
      "Statistiques de student = 0.43 \n",
      " Quantile = 2.16\n",
      " On ne rejette pas H0.\n",
      "La p-valeur est : 0.678 \n",
      " On ne rejette pas H0.\n"
     ]
    }
   ],
   "source": [
    "# Calcul des coefficients :\n",
    "beta = np.dot(np.dot(np.linalg.inv(np.dot(X1.T, X1)), X1.T), y)\n",
    "print(f\"Les coefficients sont : {beta}.\")\n",
    "\n",
    "# Notre nouveau modèle:\n",
    "yE2 = np.dot(X1, beta)\n",
    "\n",
    "# Calcul des écarts types : \n",
    "u = (y - np.dot(X1, beta))\n",
    "SD = (1/(n-3)) * np.dot(u.T, u) # divise par n-k-1 ie n-2-1\n",
    "var2 = SD * np.linalg.inv(gram)\n",
    "SE = np.sqrt(np.diag(var2))\n",
    "print(f\"Les écart-types sont : {SE}.\")\n",
    "\n",
    "# Calcul du coefficient de détermination \n",
    "y2_hat = np.dot(X1, beta)\n",
    "R22 = 1 - (sum((y - y2_hat)**2))/(sum((y - y_m)**2))\n",
    "print(f\"Coefficient de détermination vaut : {round(R22, 3)}\")\n",
    "\n",
    "def decision_rule_test(t_stat, a): \n",
    "    quantile = t.ppf(1 - a/2, df=ddl)\n",
    "    if t_stat > quantile: \n",
    "        print(f\"Statistiques de student = {round(t_stat, 2)} \\n Quantile = {round(quantile_student, 2)}\\n On rejette H0.\")\n",
    "    else: \n",
    "        print(f\"Statistiques de student = {round(t_stat, 2)} \\n Quantile = {round(quantile_student, 2)}\\n On ne rejette pas H0.\")\n",
    "\n",
    "def decision_rule_pvalue(t_stat, a):\n",
    "    pvalue = 2*(1 - t.cdf(t_stat,df = n-3))\n",
    "    if pvalue < a: \n",
    "        print(f\"La p-valeur est : {round(pvalue,3)} \\n On rejette H0.\")\n",
    "    else: \n",
    "        print(f\"La p-valeur est : {round(pvalue,3)} \\n On ne rejette pas H0.\")\n",
    "\n",
    "# Tests\n",
    "def tstat():\n",
    "    stat = []\n",
    "    for i in range(3):\n",
    "        stat.append(abs(beta[i]/SE[i]))\n",
    "    return(stat)\n",
    "        \n",
    "tstat2 = tstat()\n",
    "\n",
    "for i in range(3):\n",
    "    print(\"---------------------------------------\")\n",
    "    print(\"Test pour beta\" + str(i))\n",
    "    decision_rule_test(tstat2[i], 0.05)\n",
    "    decision_rule_pvalue(tstat2[i], 0.05)\n"
   ]
  },
  {
   "cell_type": "markdown",
   "metadata": {},
   "source": [
    "Les tests de significativité montrent qu'il faudrait exclure la variable \"interest\" du modèle puisque le test de de nullité de b2 n'est pas rejetté. Il faudrait faire un test de significativité jointe tel que le F-test pour confirmer la déduction. "
   ]
  },
  {
   "cell_type": "markdown",
   "metadata": {},
   "source": [
    "### Question 11: \n",
    "Pour les valeurs de GNP 1000 et interest 10, i.e., x =(1,1000,10).T, prédire log(investment) et donner les intervalles de confiance CI(x) et PI(x) au niveau 99.9%."
   ]
  },
  {
   "cell_type": "code",
   "execution_count": 65,
   "metadata": {},
   "outputs": [
    {
     "name": "stdout",
     "output_type": "stream",
     "text": [
      "Valeur prédite : 5.01.\n",
      "Intervalle de confiance autour de la valeur prédite = [108.097, 209.592].\n",
      "Intervalle de prediction autour de la valeur prédite = [93.359 , 242.679].\n"
     ]
    }
   ],
   "source": [
    "X1000 = np.array([1, np.log(1000), 10])\n",
    "y_pred = float((beta[0]*X1000[0] + beta[1] * X1000[1] + beta[2] * X1000[2]) + np.random.normal(0,s2))\n",
    "\n",
    "#Intervalle de confiance\n",
    "X1000 = np.asmatrix(X1000)\n",
    "sigma_pred = math.sqrt(s2*(1 + np.matmul(np.matmul(X1000, np.linalg.inv(gram)),X1000.T)))\n",
    "sigma_ci = math.sqrt(s2*(np.matmul(np.matmul(X1000, np.linalg.inv(gram)),X1000.T)))\n",
    "\n",
    "q99 = t.ppf(0.999,len(y)-3)\n",
    "CI_min = y_pred - q99 * sigma_ci\n",
    "CI_max = y_pred + q99 * sigma_ci\n",
    "CI_min_yE = yE2 - q99 * sigma_ci\n",
    "CI_max_yE = yE2 + q99 * sigma_ci\n",
    "PI_min = y_pred - q99 * sigma_pred\n",
    "PI_max = y_pred + q99 * sigma_pred\n",
    "PI_min_yE = yE2 - q99 * sigma_pred\n",
    "PI_max_yE = yE2 + q99 * sigma_pred\n",
    "print (f\"Valeur prédite : {round(y_pred, 2)}.\")\n",
    "print (f\"Intervalle de confiance autour de la valeur prédite = [{round(np.exp(CI_min), 3)}, {round(np.exp(CI_max), 3)}].\")\n",
    "print (f\"Intervalle de prediction autour de la valeur prédite = [{round(np.exp(PI_min), 3)} , {round(np.exp(PI_max), 3)}].\")"
   ]
  },
  {
   "cell_type": "markdown",
   "metadata": {},
   "source": [
    "### Question 12:\n",
    "Sur un même graph à 3 dimensions avec les axes suivants : log(GNP), Interest, andv log(Investment), tracer les données, le “plan” de régression et les surfaces correspondantes aux intervalles de confiance à 99.9%(ces surfaces seront tracées sur le domaine de définition des données)."
   ]
  },
  {
   "cell_type": "code",
   "execution_count": 66,
   "metadata": {
    "scrolled": true
   },
   "outputs": [
    {
     "data": {
      "text/plain": [
       "Text(0.5,0,'log Invest')"
      ]
     },
     "execution_count": 66,
     "metadata": {},
     "output_type": "execute_result"
    },
    {
     "data": {
      "image/png": "[encoded data removed]",
      "text/plain": [
       "<Figure size 432x288 with 1 Axes>"
      ]
     },
     "metadata": {},
     "output_type": "display_data"
    }
   ],
   "source": [
    "fig = plt.figure()\n",
    "\n",
    "def ci_graph(ypred, X, x_new, variance, a):\n",
    "    q = t.ppf(1 - a/2, df=ddl)\n",
    "    gram = np.linalg.inv(np.dot(X.T,X))\n",
    "    matrix = np.diag(np.dot(np.dot(x_new.T,gram),x_new))\n",
    "    ci_min = ypred - q * np.sqrt(variance * matrix)\n",
    "    ci_max = ypred + q * np.sqrt(variance * matrix)\n",
    "    return ci_min, ci_max\n",
    "\n",
    "def pi_graph(ypred, X, x_new, variance, a):\n",
    "    q = t.ppf(1 - a/2, df=ddl)\n",
    "    gram = np.linalg.inv(np.dot(X.T,X))\n",
    "    matrix = np.diag(np.dot(np.dot(x_new.T,gram),x_new))\n",
    "    pi_min = ypred - q * np.sqrt(variance * (1 + matrix))\n",
    "    pi_max = ypred + q * np.sqrt(variance * (1 + matrix))\n",
    "    return pi_min, pi_max\n",
    "\n",
    "# Variables \n",
    "Y_reg = np.dot(X1, beta)\n",
    "ci_3D = ci_graph(Y_reg, X1, X1.T, SD, 0.001)\n",
    "pi_3D = pi_graph(Y_reg, X1, X1.T, SD, 0.001)\n",
    "\n",
    "# La grille pour le plot 3D\n",
    "ax = fig.add_subplot(111, projection='3d')\n",
    "\n",
    "# Plot scatter\n",
    "ax.scatter(X1.T[:][1], X1.T[:][2], y, zdir='X1.T[:][0]', c = 'b', marker = 'o')\n",
    "\n",
    "# Plot regression plan \n",
    "ax.plot_trisurf(X1.T[:][1], X1.T[:][2], Y_reg, color = \"blue\", label=\"Linear Regression\")\n",
    "ax.plot_trisurf(X1.T[:][1], X1.T[:][2], ci_3D[0], color = \"red\", label=\"ci_min\", alpha = 0.2)\n",
    "ax.plot_trisurf(X1.T[:][1], X1.T[:][2], ci_3D[1], color = \"red\", label=\"ci_max\", alpha = 0.2)\n",
    "ax.plot_trisurf(X1.T[:][1], X1.T[:][2], pi_3D[0], color = \"green\", label=\"pi_min\", alpha = 0.2)\n",
    "ax.plot_trisurf(X1.T[:][1], X1.T[:][2], pi_3D[1], color = \"green\", label=\"pi_max\", alpha = 0.2)\n",
    "ax.set_title(\"Investment on GNP and interest rates \")\n",
    "ax.set_xlabel(\"log GNP\")\n",
    "ax.set_ylabel(\"Interest\")\n",
    "ax.set_zlabel(\"log Invest\")"
   ]
  },
  {
   "cell_type": "markdown",
   "metadata": {},
   "source": [
    "### Question 13:\n",
    "En utilisant des classes/librairies existantes, donner les coefficients de régression, le coefficient de\n",
    "détermination ainsi que l’investissement prédit par le modèle quand GNP vaut 100 et interest 10. La classe LinearRegression() de sklearn.linear_model est suggérée mais pas obligatoire. Vérifier que les valeurs calculées ici coïncident avec celles des questions précédentes."
   ]
  },
  {
   "cell_type": "code",
   "execution_count": 67,
   "metadata": {},
   "outputs": [
    {
     "name": "stdout",
     "output_type": "stream",
     "text": [
      "                            OLS Regression Results                            \n",
      "==============================================================================\n",
      "Dep. Variable:                 invest   R-squared:                       0.963\n",
      "Model:                            OLS   Adj. R-squared:                  0.957\n",
      "Method:                 Least Squares   F-statistic:                     157.5\n",
      "Date:                Thu, 18 Oct 2018   Prob (F-statistic):           2.44e-09\n",
      "Time:                        19:10:04   Log-Likelihood:                 16.424\n",
      "No. Observations:                  15   AIC:                            -26.85\n",
      "Df Residuals:                      12   BIC:                            -24.72\n",
      "Df Model:                           2                                         \n",
      "Covariance Type:            nonrobust                                         \n",
      "==============================================================================\n",
      "                 coef    std err          t      P>|t|      [0.025      0.975]\n",
      "------------------------------------------------------------------------------\n",
      "const         -2.1805      0.662     -3.292      0.006      -3.624      -0.737\n",
      "x1             1.0512      0.102     10.300      0.000       0.829       1.274\n",
      "x2            -0.0065      0.015     -0.425      0.678      -0.040       0.027\n",
      "==============================================================================\n",
      "Omnibus:                        1.276   Durbin-Watson:                   1.419\n",
      "Prob(Omnibus):                  0.528   Jarque-Bera (JB):                0.862\n",
      "Skew:                          -0.557   Prob(JB):                        0.650\n",
      "Kurtosis:                       2.627   Cond. No.                         309.\n",
      "==============================================================================\n",
      "\n",
      "Warnings:\n",
      "[1] Standard Errors assume that the covariance matrix of the errors is correctly specified.\n",
      "Le Y prédit est [5.01598373]\n"
     ]
    }
   ],
   "source": [
    "ols2 = sm.OLS(y, X1)\n",
    "ols_result2 = ols2.fit()\n",
    "ypred2_2 = ols_result2.predict(X1000)\n",
    "print(ols_result2.summary())\n",
    "print(f\"Le Y prédit est {ypred2_2}\")"
   ]
  },
  {
   "cell_type": "code",
   "execution_count": null,
   "metadata": {},
   "outputs": [],
   "source": []
  },
  {
   "cell_type": "code",
   "execution_count": null,
   "metadata": {},
   "outputs": [],
   "source": []
  },
  {
   "cell_type": "code",
   "execution_count": null,
   "metadata": {},
   "outputs": [],
   "source": []
  },
  {
   "cell_type": "code",
   "execution_count": null,
   "metadata": {},
   "outputs": [],
   "source": []
  },
  {
   "cell_type": "code",
   "execution_count": null,
   "metadata": {},
   "outputs": [],
   "source": []
  }
 ],
 "metadata": {
  "kernelspec": {
   "display_name": "Python 3",
   "language": "python",
   "name": "python3"
  },
  "language_info": {
   "codemirror_mode": {
    "name": "ipython",
    "version": 3
   },
   "file_extension": ".py",
   "mimetype": "text/x-python",
   "name": "python",
   "nbconvert_exporter": "python",
   "pygments_lexer": "ipython3",
   "version": "3.6.5"
  }
 },
 "nbformat": 4,
 "nbformat_minor": 2
}
